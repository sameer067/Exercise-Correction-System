{
 "cells": [
  {
   "cell_type": "code",
   "execution_count": 1,
   "id": "79de6360",
   "metadata": {},
   "outputs": [],
   "source": [
    "import numpy as np"
   ]
  },
  {
   "cell_type": "code",
   "execution_count": 7,
   "id": "2bb68691",
   "metadata": {},
   "outputs": [
    {
     "name": "stdout",
     "output_type": "stream",
     "text": [
      "Requirement already satisfied: opencv-python in c:\\users\\yaswanth_b\\appdata\\local\\programs\\python\\python311\\lib\\site-packages (4.8.0.74)\n",
      "Requirement already satisfied: numpy>=1.21.2 in c:\\users\\yaswanth_b\\appdata\\local\\programs\\python\\python311\\lib\\site-packages (from opencv-python) (1.25.0)\n",
      "Note: you may need to restart the kernel to use updated packages.\n"
     ]
    }
   ],
   "source": [
    "%pip install opencv-python"
   ]
  },
  {
   "cell_type": "code",
   "execution_count": 8,
   "id": "c01316ae",
   "metadata": {
    "scrolled": true
   },
   "outputs": [
    {
     "name": "stdout",
     "output_type": "stream",
     "text": [
      "Requirement already satisfied: mediapipe in c:\\users\\yaswanth_b\\appdata\\local\\programs\\python\\python311\\lib\\site-packages (0.10.1)\n",
      "Requirement already satisfied: absl-py in c:\\users\\yaswanth_b\\appdata\\local\\programs\\python\\python311\\lib\\site-packages (from mediapipe) (1.4.0)\n",
      "Requirement already satisfied: attrs>=19.1.0 in c:\\users\\yaswanth_b\\appdata\\local\\programs\\python\\python311\\lib\\site-packages (from mediapipe) (23.1.0)\n",
      "Requirement already satisfied: flatbuffers>=2.0 in c:\\users\\yaswanth_b\\appdata\\local\\programs\\python\\python311\\lib\\site-packages (from mediapipe) (23.5.26)\n",
      "Requirement already satisfied: matplotlib in c:\\users\\yaswanth_b\\appdata\\local\\programs\\python\\python311\\lib\\site-packages (from mediapipe) (3.7.1)\n",
      "Requirement already satisfied: numpy in c:\\users\\yaswanth_b\\appdata\\local\\programs\\python\\python311\\lib\\site-packages (from mediapipe) (1.25.0)\n",
      "Requirement already satisfied: opencv-contrib-python in c:\\users\\yaswanth_b\\appdata\\local\\programs\\python\\python311\\lib\\site-packages (from mediapipe) (4.8.0.74)\n",
      "Requirement already satisfied: protobuf<4,>=3.11 in c:\\users\\yaswanth_b\\appdata\\local\\programs\\python\\python311\\lib\\site-packages (from mediapipe) (3.20.3)\n",
      "Requirement already satisfied: sounddevice>=0.4.4 in c:\\users\\yaswanth_b\\appdata\\local\\programs\\python\\python311\\lib\\site-packages (from mediapipe) (0.4.6)\n",
      "Requirement already satisfied: CFFI>=1.0 in c:\\users\\yaswanth_b\\appdata\\local\\programs\\python\\python311\\lib\\site-packages (from sounddevice>=0.4.4->mediapipe) (1.15.1)\n",
      "Requirement already satisfied: contourpy>=1.0.1 in c:\\users\\yaswanth_b\\appdata\\local\\programs\\python\\python311\\lib\\site-packages (from matplotlib->mediapipe) (1.1.0)\n",
      "Requirement already satisfied: cycler>=0.10 in c:\\users\\yaswanth_b\\appdata\\local\\programs\\python\\python311\\lib\\site-packages (from matplotlib->mediapipe) (0.11.0)\n",
      "Requirement already satisfied: fonttools>=4.22.0 in c:\\users\\yaswanth_b\\appdata\\local\\programs\\python\\python311\\lib\\site-packages (from matplotlib->mediapipe) (4.40.0)\n",
      "Requirement already satisfied: kiwisolver>=1.0.1 in c:\\users\\yaswanth_b\\appdata\\local\\programs\\python\\python311\\lib\\site-packages (from matplotlib->mediapipe) (1.4.4)\n",
      "Requirement already satisfied: packaging>=20.0 in c:\\users\\yaswanth_b\\appdata\\roaming\\python\\python311\\site-packages (from matplotlib->mediapipe) (23.1)\n",
      "Requirement already satisfied: pillow>=6.2.0 in c:\\users\\yaswanth_b\\appdata\\local\\programs\\python\\python311\\lib\\site-packages (from matplotlib->mediapipe) (10.0.0)\n",
      "Requirement already satisfied: pyparsing>=2.3.1 in c:\\users\\yaswanth_b\\appdata\\local\\programs\\python\\python311\\lib\\site-packages (from matplotlib->mediapipe) (3.1.0)\n",
      "Requirement already satisfied: python-dateutil>=2.7 in c:\\users\\yaswanth_b\\appdata\\roaming\\python\\python311\\site-packages (from matplotlib->mediapipe) (2.8.2)\n",
      "Requirement already satisfied: pycparser in c:\\users\\yaswanth_b\\appdata\\local\\programs\\python\\python311\\lib\\site-packages (from CFFI>=1.0->sounddevice>=0.4.4->mediapipe) (2.21)\n",
      "Requirement already satisfied: six>=1.5 in c:\\users\\yaswanth_b\\appdata\\roaming\\python\\python311\\site-packages (from python-dateutil>=2.7->matplotlib->mediapipe) (1.16.0)\n",
      "Note: you may need to restart the kernel to use updated packages.\n"
     ]
    }
   ],
   "source": [
    "%pip install mediapipe"
   ]
  },
  {
   "cell_type": "code",
   "execution_count": 4,
   "id": "0bec6fc1",
   "metadata": {},
   "outputs": [],
   "source": [
    "import cv2 as cv2\n",
    "import mediapipe as mp\n",
    "mp_drawing=mp.solutions.drawing_utils\n",
    "mp_pose=mp.solutions.pose"
   ]
  },
  {
   "cell_type": "code",
   "execution_count": 5,
   "id": "b484dfd1",
   "metadata": {},
   "outputs": [],
   "source": [
    "# video feed\n",
    "cap=cv2.VideoCapture(0)\n",
    "while cap.isOpened():\n",
    "  ret,frame=cap.read()\n",
    "  cv2.imshow('Mediapipe Feed',frame)\n",
    "\n",
    "  if cv2.waitKey(10)& 0xFF == ord('q'):\n",
    "    break\n",
    "\n",
    "cap.release()\n",
    "cv2.destroyAllWindows()"
   ]
  },
  {
   "cell_type": "markdown",
   "id": "047cf007",
   "metadata": {},
   "source": [
    "# detections\n"
   ]
  },
  {
   "cell_type": "code",
   "execution_count": 6,
   "id": "b3208f90",
   "metadata": {},
   "outputs": [],
   "source": [
    "\n",
    "cap=cv2.VideoCapture(0)\n",
    "## setting up mediapipe instance\n",
    "with mp_pose.Pose(min_detection_confidence=0.5,min_tracking_confidence=0.5) as pose:\n",
    "    while cap.isOpened():\n",
    "        ret,frame=cap.read()\n",
    "        #recolor image\n",
    "        image=cv2.cvtColor(frame,cv2.COLOR_BGR2RGB)\n",
    "        image.flags.writeable=False\n",
    "        \n",
    "        #make detections\n",
    "        results=pose.process(image)\n",
    "        \n",
    "        #recolouring back\n",
    "        image.flags.writeable=True\n",
    "        image=cv2.cvtColor(image,cv2.COLOR_RGB2BGR)\n",
    "        \n",
    "        #render detections\n",
    "        mp_drawing.draw_landmarks(image,results.pose_landmarks,mp_pose.POSE_CONNECTIONS,\n",
    "                                 mp_drawing.DrawingSpec(color=(245,117,66),thickness=2,circle_radius=2),\n",
    "                                 mp_drawing.DrawingSpec(color=(245,66,230),thickness=2,circle_radius=2))\n",
    "        \n",
    "        #showing the renderred image \n",
    "        cv2.imshow('Mediapipe Feed',image)\n",
    "          \n",
    "        if cv2.waitKey(10)& 0xFF == ord('q'):\n",
    "            break\n",
    "\n",
    "    cap.release()\n",
    "    cv2.destroyAllWindows()"
   ]
  },
  {
   "cell_type": "markdown",
   "id": "0034dfa9",
   "metadata": {},
   "source": [
    "# Determining Joints"
   ]
  },
  {
   "cell_type": "code",
   "execution_count": null,
   "id": "64036848",
   "metadata": {},
   "outputs": [],
   "source": [
    "cap=cv2.VideoCapture(0)\n",
    "## setting up mediapipe instance\n",
    "with mp_pose.Pose(min_detection_confidence=0.5,min_tracking_confidence=0.5) as pose:\n",
    "    while cap.isOpened():\n",
    "        ret,frame=cap.read()\n",
    "        #recolor image\n",
    "        image=cv2.cvtColor(frame,cv2.COLOR_BGR2RGB)\n",
    "        image.flags.writeable=False\n",
    "        \n",
    "        #make detections\n",
    "        results=pose.process(image)\n",
    "        \n",
    "        #recolouring back\n",
    "        image.flags.writeable=True\n",
    "        image=cv2.cvtColor(image,cv2.COLOR_RGB2BGR)\n",
    "        \n",
    "        #extracting landmarks\n",
    "        try:\n",
    "            landmarks=results.pose_landmarks.landmark\n",
    "        except:\n",
    "            pass\n",
    "        \n",
    "        #render detections\n",
    "        mp_drawing.draw_landmarks(image,results.pose_landmarks,mp_pose.POSE_CONNECTIONS,\n",
    "                                 mp_drawing.DrawingSpec(color=(245,117,66),thickness=2,circle_radius=2),\n",
    "                                 mp_drawing.DrawingSpec(color=(245,66,230),thickness=2,circle_radius=2))\n",
    "        \n",
    "        #showing the renderred image \n",
    "        cv2.imshow('Mediapipe Feed',image)\n",
    "          \n",
    "        if cv2.waitKey(10)& 0xFF == ord('q'):\n",
    "            break\n",
    "\n",
    "    cap.release()\n",
    "    cv2.destroyAllWindows()"
   ]
  },
  {
   "cell_type": "code",
   "execution_count": null,
   "id": "0a4ad6ce",
   "metadata": {},
   "outputs": [],
   "source": [
    "for lndmrk in mp_pose.PoseLandmark:\n",
    "    print(lndmrk)"
   ]
  },
  {
   "cell_type": "code",
   "execution_count": null,
   "id": "dff6b58e",
   "metadata": {},
   "outputs": [],
   "source": [
    "landmarks[mp_pose.PoseLandmark.LEFT_SHOULDER]"
   ]
  },
  {
   "cell_type": "code",
   "execution_count": null,
   "id": "c06aafeb",
   "metadata": {},
   "outputs": [],
   "source": [
    "landmarks[mp_pose.PoseLandmark.LEFT_ELBOW]"
   ]
  },
  {
   "cell_type": "code",
   "execution_count": null,
   "id": "371328e7",
   "metadata": {},
   "outputs": [],
   "source": [
    "landmarks[mp_pose.PoseLandmark.LEFT_WRIST]"
   ]
  },
  {
   "cell_type": "markdown",
   "id": "984573ca",
   "metadata": {},
   "source": [
    "\n",
    "# Calculating angles using some trigo"
   ]
  },
  {
   "cell_type": "code",
   "execution_count": null,
   "id": "2601571f",
   "metadata": {},
   "outputs": [],
   "source": [
    "def calculate_angle(a,b,c):\n",
    "    #converting a,b,c, into arrays\n",
    "    a=np.array(a) #shoulder\n",
    "    b=np.array(b) #elbow\n",
    "    c=np.array(c) #wrist\n",
    "    \n",
    "    radians=np.arctan2(c[1]-b[1],c[0]-b[0])-np.arctan2(a[1]-b[1],a[0]-b[0])\n",
    "    angle=np.abs(radians*180.0/np.pi)\n",
    "    \n",
    "    if angle>180.0:\n",
    "        angle=360-angle\n",
    "        \n",
    "    return angle    "
   ]
  },
  {
   "cell_type": "code",
   "execution_count": null,
   "id": "3193be9a",
   "metadata": {},
   "outputs": [],
   "source": [
    "#for angle betweenshoulder elbow and wrist\n",
    "shoulder=[landmarks[mp_pose.PoseLandmark.LEFT_SHOULDER].x,landmarks[mp_pose.PoseLandmark.LEFT_SHOULDER].y]\n",
    "elbow=[landmarks[mp_pose.PoseLandmark.LEFT_ELBOW].x,landmarks[mp_pose.PoseLandmark.LEFT_ELBOW].y]\n",
    "wrist=[landmarks[mp_pose.PoseLandmark.LEFT_WRIST].x,landmarks[mp_pose.PoseLandmark.LEFT_WRIST].y]"
   ]
  },
  {
   "cell_type": "code",
   "execution_count": null,
   "id": "19e4a10c",
   "metadata": {},
   "outputs": [],
   "source": [
    "calculate_angle(shoulder,elbow,wrist)"
   ]
  },
  {
   "cell_type": "code",
   "execution_count": null,
   "id": "e31a0318",
   "metadata": {},
   "outputs": [],
   "source": [
    " #for angle between hip shoulder and elbow\n",
    "hip=[landmarks[mp_pose.PoseLandmark.LEFT_HIP].x,landmarks[mp_pose.PoseLandmark.LEFT_HIP].y]\n",
    "shoulder=[landmarks[mp_pose.PoseLandmark.LEFT_SHOULDER].x,landmarks[mp_pose.PoseLandmark.LEFT_SHOULDER].y]\n",
    "elbow=[landmarks[mp_pose.PoseLandmark.LEFT_ELBOW].x,landmarks[mp_pose.PoseLandmark.LEFT_ELBOW].y]\n",
    "    \n",
    "    "
   ]
  },
  {
   "cell_type": "code",
   "execution_count": null,
   "id": "02ac759e",
   "metadata": {},
   "outputs": [],
   "source": [
    "cap=cv2.VideoCapture(0)\n",
    "## setting up mediapipe instance\n",
    "with mp_pose.Pose(min_detection_confidence=0.5,min_tracking_confidence=0.5) as pose:\n",
    "    while cap.isOpened():\n",
    "        ret,frame=cap.read()\n",
    "        #recolor image\n",
    "        image=cv2.cvtColor(frame,cv2.COLOR_BGR2RGB)\n",
    "        image.flags.writeable=False\n",
    "        \n",
    "        #make detections\n",
    "        results=pose.process(image)\n",
    "        \n",
    "        #recolouring back\n",
    "        image.flags.writeable=True\n",
    "        image=cv2.cvtColor(image,cv2.COLOR_RGB2BGR)\n",
    "        \n",
    "        #extracting landmarks\n",
    "        try:  \n",
    "            landmarks=results.pose_landmarks.landmark\n",
    "            \n",
    "            #getting coordinates\n",
    "            shoulder=[landmarks[mp_pose.PoseLandmark.LEFT_SHOULDER].x,landmarks[mp_pose.PoseLandmark.LEFT_SHOULDER].y]\n",
    "            elbow=[landmarks[mp_pose.PoseLandmark.LEFT_ELBOW].x,landmarks[mp_pose.PoseLandmark.LEFT_ELBOW].y]\n",
    "            wrist=[landmarks[mp_pose.PoseLandmark.LEFT_WRIST].x,landmarks[mp_pose.PoseLandmark.LEFT_WRIST].y]\n",
    "            \n",
    "            # Calculating the angle beetween Shoulder Elbow and Wrist\n",
    "            angle=calculate_angle(shoulder,elbow,wrist)\n",
    "    \n",
    "            \n",
    "            #visualizing the angle on screen using put text function \n",
    "            org=tuple(np.multiply(elbow,[640,480]).astype(int))\n",
    "            cv2.putText(image,str(angle),org,cv2.FONT_HERSHEY_SIMPLEX,0.5,(255,255,255) ,2,cv2.LINE_AA)\n",
    "                      \n",
    "            \n",
    "          \n",
    "        except:\n",
    "            pass\n",
    "        \n",
    "        #render detections\n",
    "        mp_drawing.draw_landmarks(image,results.pose_landmarks,mp_pose.POSE_CONNECTIONS,\n",
    "                                 mp_drawing.DrawingSpec(color=(245,117,66),thickness=2,circle_radius=2),\n",
    "                                 mp_drawing.DrawingSpec(color=(245,66,230),thickness=2,circle_radius=2))\n",
    "        \n",
    "        #showing the renderred image \n",
    "        cv2.imshow('Mediapipe Feed',image)\n",
    "          \n",
    "        if cv2.waitKey(10)& 0xFF == ord('q'):\n",
    "            break\n",
    "\n",
    "    cap.release()\n",
    "    cv2.destroyAllWindows()"
   ]
  },
  {
   "cell_type": "markdown",
   "id": "dc541fc0",
   "metadata": {},
   "source": [
    "# Curl Counter of Bicep"
   ]
  },
  {
   "cell_type": "code",
   "execution_count": null,
   "id": "f53c0f2a",
   "metadata": {},
   "outputs": [],
   "source": [
    "cap=cv2.VideoCapture(0)\n",
    "\n",
    "#curl counter variables\n",
    "counter=0\n",
    "stage= None\n",
    "\n",
    "\n",
    "## setting up mediapipe instance\n",
    "with mp_pose.Pose(min_detection_confidence=0.5,min_tracking_confidence=0.5) as pose:\n",
    "    while cap.isOpened():\n",
    "        ret,frame=cap.read()\n",
    "        #recolor image\n",
    "        image=cv2.cvtColor(frame,cv2.COLOR_BGR2RGB)\n",
    "        image.flags.writeable=False\n",
    "        \n",
    "        #make detections\n",
    "        results=pose.process(image)\n",
    "        \n",
    "        #recolouring back\n",
    "        image.flags.writeable=True\n",
    "        image=cv2.cvtColor(image,cv2.COLOR_RGB2BGR)\n",
    "        \n",
    "        #extracting landmarks\n",
    "        try:  \n",
    "            landmarks=results.pose_landmarks.landmark\n",
    "            \n",
    "            #getting coordinates\n",
    "            shoulder=[landmarks[mp_pose.PoseLandmark.LEFT_SHOULDER].x,landmarks[mp_pose.PoseLandmark.LEFT_SHOULDER].y]\n",
    "            elbow=[landmarks[mp_pose.PoseLandmark.LEFT_ELBOW].x,landmarks[mp_pose.PoseLandmark.LEFT_ELBOW].y]\n",
    "            wrist=[landmarks[mp_pose.PoseLandmark.LEFT_WRIST].x,landmarks[mp_pose.PoseLandmark.LEFT_WRIST].y]\n",
    "            \n",
    "            # Calculating the angle beetween Shoulder Elbow and Wrist\n",
    "            angle=calculate_angle(shoulder,elbow,wrist)\n",
    "    \n",
    "            \n",
    "            #visualizing the angle on screen using put text function \n",
    "            org=tuple(np.multiply(elbow,[640,480]).astype(int))\n",
    "            cv2.putText(image,str(angle),org,cv2.FONT_HERSHEY_SIMPLEX,0.5,(255,255,255) ,2,cv2.LINE_AA)\n",
    "            \n",
    "            #counting logic for curls\n",
    "            if angle>160:\n",
    "                stage=\"down\"\n",
    "            if angle<35 and stage == \"down\":\n",
    "                stage=\"up\"\n",
    "                counter+=1\n",
    "               \n",
    "        except:\n",
    "            pass\n",
    "        #rendering the counter\n",
    "        #setting up the status box\n",
    "        cv2.rectangle(image,(0,0),(225,73),(245,117,16),-1)\n",
    "        \n",
    "        #rep data\n",
    "        cv2.putText(image,'REPS',(15,12),cv2.FONT_HERSHEY_SIMPLEX,0.5,(0,0,0),1,cv2.LINE_AA)\n",
    "        cv2.putText(image,str(counter),(10,60),cv2.FONT_HERSHEY_SIMPLEX,2,(255,255,255),2,cv2.LINE_AA)\n",
    "        \n",
    "        #congrats message if reps==10\n",
    "        \n",
    "       # if(counter>=15):\n",
    "           # if(counter==20):\n",
    "               # break\n",
    "            #cv2.putText(image,'Yeah! Buddy Light weight!!',(95,150),cv2.FONT_HERSHEY_SIMPLEX,1.,(0,0,0),3,cv2.LINE_AA)\n",
    "              \n",
    "           \n",
    "        #render detections\n",
    "        mp_drawing.draw_landmarks(image,results.pose_landmarks,mp_pose.POSE_CONNECTIONS,\n",
    "                                 mp_drawing.DrawingSpec(color=(245,117,66),thickness=2,circle_radius=2),\n",
    "                                 mp_drawing.DrawingSpec(color=(245,66,230),thickness=2,circle_radius=2))\n",
    "        \n",
    "        #showing the renderred image \n",
    "        cv2.imshow('Mediapipe Feed',image)\n",
    "          \n",
    "        if cv2.waitKey(10)& 0xFF == ord('q'):\n",
    "            break\n",
    "\n",
    "    cap.release()\n",
    "    cv2.destroyAllWindows()"
   ]
  },
  {
   "cell_type": "code",
   "execution_count": null,
   "id": "89b7194e",
   "metadata": {},
   "outputs": [],
   "source": []
  },
  {
   "cell_type": "code",
   "execution_count": null,
   "id": "fec9e90a",
   "metadata": {},
   "outputs": [],
   "source": []
  },
  {
   "cell_type": "code",
   "execution_count": null,
   "id": "f482b1e6",
   "metadata": {},
   "outputs": [],
   "source": []
  }
 ],
 "metadata": {
  "kernelspec": {
   "display_name": "Python 3 (ipykernel)",
   "language": "python",
   "name": "python3"
  },
  "language_info": {
   "codemirror_mode": {
    "name": "ipython",
    "version": 3
   },
   "file_extension": ".py",
   "mimetype": "text/x-python",
   "name": "python",
   "nbconvert_exporter": "python",
   "pygments_lexer": "ipython3",
   "version": "3.11.4"
  }
 },
 "nbformat": 4,
 "nbformat_minor": 5
}
